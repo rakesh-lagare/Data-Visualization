{
 "cells": [
  {
   "cell_type": "markdown",
   "metadata": {},
   "source": [
    "\n",
    "\n",
    "\n",
    "\n",
    "#### Classifiers\n",
    "\n",
    "1. ``model1`` = your POS tagger model (english)\n",
    "2. ``model2`` = pre-trained POS tagger model using NLTK (maxentropy english)\n",
    "3. ``model3.x`` = rule-based classifiers (x = 1 to 5)\n",
    "\n",
    "3. ``model4`` = your POS tagger model (not english)\n",
    "4. ``model5`` = pre-trained POS tagger model using RDRPOSTagger [1](http://rdrpostagger.sourceforge.net/) or TreeTagger [2](http://www.cis.uni-muenchen.de/~schmid/tools/TreeTagger/) (not english)\n",
    "\n",
    "note: for ``model1`` and ``model3`` you can try different classifiers: Hidden Markov Model, Logistic Regression, Maximum Entropy Markov Models, Decision Trees, Naive Bayes, etc..**choose one**!\n",
    "\n",
    "#### Corpora\n",
    "1. ``X1`` = nltk.corpus.treebank (english)\n",
    "2. ``X2`` = nltk.corpus.brown (english)\n",
    "3. ``X3`` = other language (not english)\n",
    "\n",
    "**note**: data split for training/test = 0.8/0.2 (sequencial)\n",
    "\n",
    "#### Task 1\n",
    "- get results for english (**plot a graph with all classifiers x results**)\n",
    "    - ``performance 1.1`` = ``model1`` in ``X1``\n",
    "    - ``performance 1.2`` = ``model2`` in ``X1``\n",
    "    - ``performance 1.3.x`` = ``model3.x`` in ``X1``\n",
    "    \n",
    "    - ``performance 1.4`` = ``model1`` in ``X2``\n",
    "    - ``performance 1.5`` = ``model2`` in ``X2``\n",
    "    - ``performance 1.6.x`` = ``model3.x`` in ``X2``\n",
    "\n",
    "#### Task 2\n",
    "- train your model with standard features (**plot a graph with all classifiers x results**)\n",
    "    - ``performance 2.1`` = ``model4`` in ``X3``\n",
    "    - ``performance 2.2`` = ``model5`` in ``X3``\n",
    "\n"
   ]
  },
  {
   "cell_type": "code",
   "execution_count": null,
   "metadata": {},
   "outputs": [],
   "source": []
  }
 ],
 "metadata": {
  "kernelspec": {
   "display_name": "Python 3",
   "language": "python",
   "name": "python3"
  },
  "language_info": {
   "codemirror_mode": {
    "name": "ipython",
    "version": 3
   },
   "file_extension": ".py",
   "mimetype": "text/x-python",
   "name": "python",
   "nbconvert_exporter": "python",
   "pygments_lexer": "ipython3",
   "version": "3.6.7"
  }
 },
 "nbformat": 4,
 "nbformat_minor": 2
}
