{
 "cells": [
  {
   "cell_type": "code",
   "execution_count": 21,
   "metadata": {},
   "outputs": [
    {
     "name": "stdout",
     "output_type": "stream",
     "text": [
      "Tagged sentences:  3914\n",
      "Tagged words: 100676\n"
     ]
    }
   ],
   "source": [
    "##### Task 1 ###\n",
    "### Your POS Tagger in TreeBank Dataset###\n",
    "\n",
    "import nltk\n",
    "from nltk import word_tokenize, pos_tag\n",
    "from nltk.corpus import TaggedCorpusReader\n",
    "\n",
    "\n",
    "\n",
    "annotated_sent = nltk.corpus.treebank.tagged_sents()\n",
    "\n",
    "print(\"Tagged sentences: \", len(annotated_sent))\n",
    "print(\"Tagged words:\", len(nltk.corpus.treebank.tagged_words()))\n"
   ]
  },
  {
   "cell_type": "code",
   "execution_count": 5,
   "metadata": {},
   "outputs": [
    {
     "name": "stdout",
     "output_type": "stream",
     "text": [
      "{'is_capitalized': False,\n",
      " 'next_word': 'sentence',\n",
      " 'prefix-1': 'a',\n",
      " 'prev_word': 'is',\n",
      " 'suffix-1': 'a',\n",
      " 'word': 'a'}\n"
     ]
    }
   ],
   "source": [
    "def features(sentence, index):\n",
    "    return {\n",
    "        'word': sentence[index],\n",
    "        'is_capitalized': sentence[index][0].upper() == sentence[index][0],\n",
    "        'prefix-1': sentence[index][0],\n",
    "        'suffix-1': sentence[index][-1],\n",
    "        'prev_word': '' if index == 0 else sentence[index - 1],\n",
    "        'next_word': '' if index == len(sentence) - 1 else sentence[index + 1]\n",
    "    }\n",
    "import pprint \n",
    "pprint.pprint(features(['This', 'is', 'a', 'sentence'], 2))"
   ]
  },
  {
   "cell_type": "code",
   "execution_count": 6,
   "metadata": {},
   "outputs": [],
   "source": [
    "def untag(tagged_sentence):\n",
    "    return [w for w, t in tagged_sentence]\n"
   ]
  },
  {
   "cell_type": "code",
   "execution_count": 7,
   "metadata": {},
   "outputs": [
    {
     "name": "stdout",
     "output_type": "stream",
     "text": [
      "2935\n",
      "979\n"
     ]
    }
   ],
   "source": [
    "cutoff = int(.75 * len(annotated_sent))\n",
    "training_sentences = annotated_sent[:cutoff]\n",
    "test_sentences = annotated_sent[cutoff:]\n",
    " \n",
    "print(len(training_sentences))\n",
    "print(len(test_sentences))\n",
    " \n",
    "def transform_to_dataset(tagged_sentences):\n",
    "    X, y = [], []\n",
    "    for tagged in tagged_sentences:\n",
    "        for index in range(len(tagged)):\n",
    "            X.append(features(untag(tagged), index))\n",
    "            y.append(tagged[index][1])\n",
    " \n",
    "    return X, y\n",
    " \n",
    "X, y = transform_to_dataset(training_sentences)"
   ]
  },
  {
   "cell_type": "code",
   "execution_count": 9,
   "metadata": {},
   "outputs": [
    {
     "name": "stdout",
     "output_type": "stream",
     "text": [
      "training OK\n",
      "Accuracy: 0.8798007391933151\n",
      "3.6.4\n",
      "checking...\n",
      "[('Hello', 'NNP'), ('world', 'NN'), (',', ','), ('lets', 'NNS'), ('do', 'VB'), ('something', 'VBG'), ('awesome', 'NN'), ('today', 'NN'), ('!', 'NNP')]\n"
     ]
    }
   ],
   "source": [
    "from sklearn.tree import DecisionTreeClassifier\n",
    "from sklearn.feature_extraction import DictVectorizer\n",
    "from sklearn.pipeline import Pipeline\n",
    "\n",
    "size=10000\n",
    "\n",
    "clf = Pipeline([\n",
    "    ('vectorizer', DictVectorizer(sparse=False)),\n",
    "    ('classifier', DecisionTreeClassifier(criterion='entropy'))\n",
    "])\n",
    "clf.fit(X[:size], y[:size])\n",
    " \n",
    "print('training OK')\n",
    " \n",
    "X_test, y_test = transform_to_dataset(test_sentences)\n",
    " \n",
    "print(\"Accuracy:\", clf.score(X_test, y_test))\n",
    "\n",
    "def pos_tag(sentence):\n",
    "    print('checking...')\n",
    "    tagged_sentence = []\n",
    "    tags = clf.predict([features(sentence, index) for index in range(len(sentence))])\n",
    "    return zip(sentence, tags)\n",
    "\n",
    "import platform\n",
    "print(platform.python_version())\n",
    "\n",
    "print(list(pos_tag(word_tokenize('Hello world, lets do something awesome today!'))))"
   ]
  },
  {
   "cell_type": "code",
   "execution_count": 10,
   "metadata": {},
   "outputs": [
    {
     "name": "stdout",
     "output_type": "stream",
     "text": [
      "3.6.4\n",
      "checking...\n",
      "[('Hello', 'NNP'), ('world', 'NN'), (',', ','), ('lets', 'NNS'), ('do', 'VB'), ('something', 'VBG'), ('awesome', 'NN'), ('today', 'NN'), ('!', 'NNP')]\n"
     ]
    }
   ],
   "source": [
    "def pos_tag(sentence):\n",
    "    print('checking...')\n",
    "    tagged_sentence = []\n",
    "    tags = clf.predict([features(sentence, index) for index in range(len(sentence))])\n",
    "    return zip(sentence, tags)\n",
    "\n",
    "import platform\n",
    "print(platform.python_version())\n",
    "\n",
    "print(list(pos_tag(word_tokenize('Hello world, lets do something awesome today!'))))"
   ]
  },
  {
   "cell_type": "code",
   "execution_count": 11,
   "metadata": {},
   "outputs": [
    {
     "name": "stdout",
     "output_type": "stream",
     "text": [
      "\n",
      " Default Tagger accuracy : 0.12902444662139106\n",
      "\n",
      " Unigram Tagger accuracy on : 0.9601545387502615\n",
      "\n",
      " Bigram Tagger accuracy on : 0.9119107109442934\n",
      "\n",
      " Trigram Tagger accuracy on : 0.9056146877854949\n",
      "\n",
      " RegEx Tagger accuracy on : 0.21703668644263685\n"
     ]
    }
   ],
   "source": [
    "### ### Model3.x in X1 ####\n",
    "\n",
    "from nltk.corpus import treebank\n",
    "from nltk import DefaultTagger as df\n",
    "from nltk import UnigramTagger as ut\n",
    "from nltk import BigramTagger as bt\n",
    "from nltk import TrigramTagger as tg\n",
    "\n",
    "size = int(len(annotated_sent) * 0.9)\n",
    "\n",
    "patterns = [(r'.*ing$', 'VBG'), (r'.*ed$', 'VBD'), (r'.*es$', 'VBZ'), (r'.*ould$', 'MD'), (r'.*\\'s$', 'NN$'),               \n",
    "             (r'.*s$', 'NNS'), (r'^-?[0-9]+(.[0-9]+)?$', 'CD'), (r'.*', 'NN')]\n",
    "\n",
    "\n",
    "\n",
    "train_sents = annotated_sent[:size]\n",
    "test_sents = annotated_sent[size:]\n",
    "\n",
    "accuracy1_3_1_x1= nltk.DefaultTagger('NN').evaluate(train_sents)\n",
    "accuracy1_3_2_x1= nltk.UnigramTagger(train_sents).evaluate(train_sents)\n",
    "accuracy1_3_3_x1 = nltk.BigramTagger(train_sents).evaluate(train_sents)\n",
    "accuracy1_3_4_x1 = nltk.TrigramTagger(train_sents).evaluate(train_sents)\n",
    "accuracy1_3_5_x1 = nltk.RegexpTagger(patterns).evaluate(train_sents)\n",
    "    \n",
    "    \n",
    "print(\"\\n Default Tagger accuracy :\" ,accuracy1_3_1_x1)\n",
    "print(\"\\n Unigram Tagger accuracy on :\",accuracy1_3_2_x1)\n",
    "print(\"\\n Bigram Tagger accuracy on :\",accuracy1_3_3_x1)\n",
    "print(\"\\n Trigram Tagger accuracy on :\",accuracy1_3_4_x1)\n",
    "print(\"\\n RegEx Tagger accuracy on :\",accuracy1_3_5_x1)"
   ]
  },
  {
   "cell_type": "code",
   "execution_count": 6,
   "metadata": {},
   "outputs": [
    {
     "name": "stdout",
     "output_type": "stream",
     "text": [
      "{'is_capitalized': False,\n",
      " 'next_word': 'sentence',\n",
      " 'prefix-1': 'a',\n",
      " 'prev_word': 'is',\n",
      " 'suffix-1': 'a',\n",
      " 'word': 'a'}\n"
     ]
    }
   ],
   "source": [
    "### Model 1 in X2###\n",
    "\n",
    "import nltk\n",
    "from nltk.corpus import brown\n",
    "\n",
    "brown_tagged_sentences = nltk.corpus.brown.tagged_sents()\n",
    "cutoff = int(.80 * len(brown_tagged_sentences))\n",
    "brown_train_sents = brown_tagged_sentences[:cutoff]\n",
    "brown_test_sents = brown_tagged_sentences[cutoff:]\n",
    "\n",
    "def features(sentence, index):\n",
    "    return {\n",
    "        'word': sentence[index],\n",
    "        'is_capitalized': sentence[index][0].upper() == sentence[index][0],\n",
    "        'prefix-1': sentence[index][0],\n",
    "        'suffix-1': sentence[index][-1],\n",
    "        'prev_word': '' if index == 0 else sentence[index - 1],\n",
    "        'next_word': '' if index == len(sentence) - 1 else sentence[index + 1]\n",
    "    }\n",
    "import pprint \n",
    "pprint.pprint(features(['This', 'is', 'a', 'sentence'], 2))\n",
    "\n",
    "\n",
    "\n"
   ]
  },
  {
   "cell_type": "code",
   "execution_count": 8,
   "metadata": {
    "collapsed": true
   },
   "outputs": [],
   "source": [
    "def untag(tagged_sentence):\n",
    "    return [w for w, t in tagged_sentence]\n",
    "def transform_to_dataset(tagged_sentences):\n",
    "    X, y = [], []\n",
    "    for tagged in tagged_sentences:\n",
    "        for index in range(len(tagged)):\n",
    "            X.append(features(untag(tagged), index))\n",
    "            y.append(tagged[index][1])\n",
    " \n",
    "    return X, y\n",
    " \n",
    "\n",
    "\n",
    "X_brown_train,y_brown_train = transform_to_dataset(brown_train_sents)\n",
    "X_brown_test, y_brown_test = transform_to_dataset(brown_test_sents)\n"
   ]
  },
  {
   "cell_type": "code",
   "execution_count": 9,
   "metadata": {},
   "outputs": [
    {
     "name": "stdout",
     "output_type": "stream",
     "text": [
      "training ...\n",
      "Done\n",
      "Accuracy of brown data: 0.421254117414\n"
     ]
    }
   ],
   "source": [
    "from sklearn.naive_bayes import GaussianNB\n",
    "from sklearn.feature_extraction import DictVectorizer\n",
    "from sklearn.pipeline import Pipeline\n",
    " \n",
    "clf = Pipeline([\n",
    "    ('vectorizer', DictVectorizer(sparse=False)),\n",
    "    ('classifier', GaussianNB())\n",
    "])\n",
    "\n",
    "\n",
    "print('training ...')\n",
    "clf.fit(X_brown_train[:100], y_brown_train[:100])\n",
    "print('Done')\n",
    "gaussian_brown = clf.score(X_brown_test, y_brown_test)\n",
    "print (\"Accuracy of brown data:\", gaussian_brown)"
   ]
  },
  {
   "cell_type": "code",
   "execution_count": 10,
   "metadata": {},
   "outputs": [
    {
     "name": "stdout",
     "output_type": "stream",
     "text": [
      "Performance of brown\n",
      "0.10997763652187324\n",
      "\n",
      "0.8773754310202373\n",
      "\n",
      "0.3390490564374869\n",
      "\n",
      "0.19178610379738467\n",
      "\n",
      "0.17594438874995869\n",
      "\n"
     ]
    }
   ],
   "source": [
    "\n",
    "patterns = [(r'.*ing$', 'VBG'), (r'.*ed$', 'VBD'), (r'.*es$', 'VBZ'), (r'.*ould$', 'MD'), (r'.*\\'s$', 'NN$'),               \n",
    "             (r'.*s$', 'NNS'), (r'^-?[0-9]+(.[0-9]+)?$', 'CD'), (r'.*', 'NN')]\n",
    "\n",
    "def_model_b = nltk.DefaultTagger('NN')\n",
    "uni_model_b = nltk.UnigramTagger(brown_train_sents)\n",
    "bi_model_b = nltk.BigramTagger(brown_train_sents)\n",
    "tri_model_b = nltk.TrigramTagger(brown_train_sents)\n",
    "regexp_model_b = nltk.RegexpTagger(patterns)\n",
    "\n",
    "print (\"Performance of brown\")\n",
    "\n",
    "model3_1_b = def_model_b.evaluate(brown_test_sents)\n",
    "print(model3_1_b)\n",
    "print()\n",
    "\n",
    "model3_2_b = uni_model_b.evaluate(brown_test_sents)\n",
    "print(model3_2_b)\n",
    "print()\n",
    "\n",
    "model3_3_b = bi_model_b.evaluate(brown_test_sents)\n",
    "print(model3_3_b)\n",
    "print()\n",
    "\n",
    "model3_4_b = tri_model_b.evaluate(brown_test_sents)\n",
    "print(model3_4_b)\n",
    "print()\n",
    "\n",
    "model3_5_b = regexp_model_b.evaluate(brown_test_sents)\n",
    "print(model3_5_b)\n",
    "print()"
   ]
  },
  {
   "cell_type": "code",
   "execution_count": 14,
   "metadata": {},
   "outputs": [
    {
     "data": {
      "text/plain": [
       "(array([0, 1, 2, 3, 4]), <a list of 5 Text xticklabel objects>)"
      ]
     },
     "execution_count": 14,
     "metadata": {},
     "output_type": "execute_result"
    },
    {
     "data": {
      "image/png": "[encoded data removed]",
      "text/plain": [
       "<matplotlib.figure.Figure at 0x152134e25f8>"
      ]
     },
     "metadata": {},
     "output_type": "display_data"
    }
   ],
   "source": [
    "import numpy as np\n",
    "import matplotlib.pyplot as plt\n",
    "import seaborn as sea\n",
    "\n",
    "x = ['Default POS', 'Unigram POS', 'Bigram POS', 'Trigram POS', 'Regexp POS']\n",
    "y = [accuracy1_3_1_x1, accuracy1_3_2_x1, accuracy1_3_3_x1, accuracy1_3_4_x1, accuracy1_3_5_x1]\n",
    "sea.barplot(x, y)\n",
    "plt.title('Treebank Corpus')\n",
    "plt.xticks(rotation=45)"
   ]
  },
  {
   "cell_type": "code",
   "execution_count": 11,
   "metadata": {},
   "outputs": [
    {
     "data": {
      "text/plain": [
       "[('पूर्ण', 'JJ'),\n",
       " ('प्रतिबंध', 'NN'),\n",
       " ('हटाओ', 'VFM'),\n",
       " (':', 'SYM'),\n",
       " ('इराक', 'NNP')]"
      ]
     },
     "execution_count": 11,
     "metadata": {},
     "output_type": "execute_result"
    }
   ],
   "source": [
    "### model4 in X3\n",
    "import nltk\n",
    "from nltk import word_tokenize, pos_tag\n",
    "\n",
    "from nltk.corpus import indian\n",
    "X3 = nltk.corpus.indian\n",
    "X3_tagged_sents = X3.tagged_sents('hindi.pos')\n",
    "X3_tagged_sents[0]"
   ]
  },
  {
   "cell_type": "code",
   "execution_count": 18,
   "metadata": {},
   "outputs": [
    {
     "name": "stdout",
     "output_type": "stream",
     "text": [
      "Hindi Numbers ['०', '१', '२', '३', '४', '५', '६', '७', '८', '९']\n",
      "{'has_hyphen': False,\n",
      " 'is_first': False,\n",
      " 'is_last': False,\n",
      " 'is_numeric': False,\n",
      " 'next_word': 'इराक',\n",
      " 'prefix-1': 'ह',\n",
      " 'prefix-2': 'हट',\n",
      " 'prefix-3': 'हटा',\n",
      " 'prev_word': 'प्रतिबंध',\n",
      " 'suffix-1': 'ओ',\n",
      " 'suffix-2': 'ाओ',\n",
      " 'suffix-3': 'टाओ',\n",
      " 'word': 'हटाओ'}\n"
     ]
    }
   ],
   "source": [
    "hindi_numbers = [chr(0x0966), chr(0x0967), chr(0x0968), chr(0x0969), chr(0x096A),\n",
    "                   chr(0x096B), chr(0x096C), chr(0x096D), chr(0x096E), chr(0x096F)]\n",
    "print(\"Hindi Numbers\",hindi_numbers)\n",
    "def isHindiNumber(word):\n",
    "    isNum = True\n",
    "    for i in list(word):\n",
    "        if i not in hindi_numbers:\n",
    "            isNum = False\n",
    "            break;\n",
    "    \n",
    "    return isNum\n",
    "\n",
    "    \n",
    "def features_hindi(sentence, index):\n",
    "    return {\n",
    "        'word': sentence[index],\n",
    "        'is_first': index == 0,\n",
    "        'is_last': index == len(sentence) - 1,\n",
    "        'prefix-1': sentence[index][0] if sentence[index] != '' else '',\n",
    "        'prefix-2': sentence[index][:2] if sentence[index] != '' else '',\n",
    "        'prefix-3': sentence[index][:3] if sentence[index] != '' else '',\n",
    "        'suffix-1': sentence[index][-1] if sentence[index] != '' else '',\n",
    "        'suffix-2': sentence[index][-2:] if sentence[index] != '' else '',\n",
    "        'suffix-3': sentence[index][-3:] if sentence[index] != '' else '',\n",
    "        'prev_word': '' if index == 0 else sentence[index - 1],\n",
    "        'next_word': '' if index == len(sentence) - 1 else sentence[index + 1],\n",
    "        'has_hyphen': '-' in sentence[index],\n",
    "        'is_numeric': sentence[index].isdigit() or isHindiNumber(sentence[index])\n",
    "    }\n",
    "import pprint \n",
    "pprint.pprint(features_hindi(['पूर्ण', 'प्रतिबंध', 'हटाओ', 'इराक'], 2))"
   ]
  },
  {
   "cell_type": "code",
   "execution_count": 13,
   "metadata": {
    "collapsed": true
   },
   "outputs": [],
   "source": [
    "def untag(tagged_sentence):\n",
    "    return [w for w, t in tagged_sentence]"
   ]
  },
  {
   "cell_type": "code",
   "execution_count": null,
   "metadata": {},
   "outputs": [],
   "source": [
    "\n",
    "X3_size = int(.8 * len(X3_Language))\n",
    "X3_train = X3_Language[:X3_size]\n",
    "X3_test = X3_Language[X3_size:]"
   ]
  },
  {
   "cell_type": "code",
   "execution_count": 19,
   "metadata": {},
   "outputs": [
    {
     "name": "stdout",
     "output_type": "stream",
     "text": [
      "432\n",
      "108\n",
      "training OK\n",
      "Accuracy: 0.781334780249593\n",
      "3.6.4\n",
      "checking...\n",
      "[('हैलो', 'VAUX'), ('दुनिया', 'NN'), (',', 'PUNC'), ('आज', 'NN'), ('कुछ', 'QF'), ('भयानक', 'JJ'), ('करने', 'VNN'), ('दो', 'QFNUM'), ('!', 'NNPC')]\n"
     ]
    }
   ],
   "source": [
    "X3_tagged_sents = nltk.corpus.indian.tagged_sents('hindi.pos')\n",
    "cutoff = int(.8 * len(X3_tagged_sents))\n",
    "training_sentences = X3_tagged_sents[:cutoff]\n",
    "test_sentences = X3_tagged_sents[cutoff:]\n",
    "\n",
    " \n",
    "print(len(training_sentences))\n",
    "print(len(test_sentences))\n",
    " \n",
    "def transform_to_dataset(tagged_sentences):\n",
    "    X, y = [], []\n",
    "    for tagged in tagged_sentences:\n",
    "        for index in range(len(tagged)):\n",
    "            X.append(features_hindi(untag(tagged), index))\n",
    "            y.append(tagged[index][1])\n",
    " \n",
    "    return X, y\n",
    " \n",
    "X, y = transform_to_dataset(training_sentences)\n",
    "X_test_id, y_test_id = transform_to_dataset(test_sentences)\n",
    "\n",
    "\n",
    "from sklearn.tree import DecisionTreeClassifier\n",
    "from sklearn.feature_extraction import DictVectorizer\n",
    "from sklearn.pipeline import Pipeline\n",
    "\n",
    "size=10000\n",
    "\n",
    "clf = Pipeline([\n",
    "    ('vectorizer', DictVectorizer(sparse=False)),\n",
    "    ('classifier', DecisionTreeClassifier(criterion='entropy'))\n",
    "])\n",
    "clf.fit(X[:size], y[:size])\n",
    " \n",
    "print('training OK')\n",
    " \n",
    "X_test, y_test = transform_to_dataset(test_sentences)\n",
    " \n",
    "print(\"Accuracy:\", clf.score(X_test, y_test))\n",
    "\n",
    "\n",
    "\n",
    "def pos_tag(sentence):\n",
    "    print('checking...')\n",
    "    tagged_sentence = []\n",
    "    tags = clf.predict([features_hindi(sentence, index) for index in range(len(sentence))])\n",
    "    return zip(sentence, tags)\n",
    "\n",
    "import platform\n",
    "print(platform.python_version())\n",
    "\n",
    "print(list(pos_tag(word_tokenize('हैलो दुनिया, आज कुछ भयानक करने दो!'))))"
   ]
  },
  {
   "cell_type": "code",
   "execution_count": null,
   "metadata": {
    "collapsed": true
   },
   "outputs": [],
   "source": [
    "import os\n",
    "\n",
    "os.environ['TREETAGGER_HOME']  ='/home/mister_nags/nltk_data/treetagger/cmd'\n",
    "\n",
    "\n",
    "from treetagger import TreeTagger\n",
    "\n",
    "tree = TreeTagger(language='Hindi')\n",
    "last = tree.tag(X3_tagged_sents)\n",
    "print(last)\n"
   ]
  }
 ],
 "metadata": {
  "kernelspec": {
   "display_name": "Python 3",
   "language": "python",
   "name": "python3"
  },
  "language_info": {
   "codemirror_mode": {
    "name": "ipython",
    "version": 3
   },
   "file_extension": ".py",
   "mimetype": "text/x-python",
   "name": "python",
   "nbconvert_exporter": "python",
   "pygments_lexer": "ipython3",
   "version": "3.6.7"
  }
 },
 "nbformat": 4,
 "nbformat_minor": 2
}
